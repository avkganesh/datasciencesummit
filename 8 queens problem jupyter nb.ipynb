{
 "cells": [
  {
   "cell_type": "code",
   "execution_count": null,
   "metadata": {},
   "outputs": [],
   "source": [
    "# Import required library\n",
    "import random"
   ]
  },
  {
   "cell_type": "code",
   "execution_count": null,
   "metadata": {},
   "outputs": [],
   "source": [
    "# Step 1 : Generate random chromosomes\n",
    "def random_chromosome(size):\n",
    "    return [ random.randint(1, nq) for i in range(nq) ]"
   ]
  },
  {
   "cell_type": "code",
   "execution_count": null,
   "metadata": {},
   "outputs": [],
   "source": [
    "# Step 2 : Calculate Fitness of the generated chromosomes\n",
    "def fitness(chromosome):\n",
    "    horizontal_collisions = sum([chromosome.count(queen)-1 for queen in chromosome])/2\n",
    "    diagonal_collisions = 0\n",
    "\n",
    "    n = len(chromosome)\n",
    "    left_diagonal = [0] * 2*n\n",
    "    right_diagonal = [0] * 2*n\n",
    "    for i in range(n):\n",
    "        left_diagonal[i + chromosome[i] - 1] += 1\n",
    "        right_diagonal[len(chromosome) - i + chromosome[i] - 2] += 1\n",
    "\n",
    "    diagonal_collisions = 0\n",
    "    for i in range(2*n-1):\n",
    "        counter = 0\n",
    "        if left_diagonal[i] > 1:\n",
    "            counter += left_diagonal[i]-1\n",
    "        if right_diagonal[i] > 1:\n",
    "            counter += right_diagonal[i]-1\n",
    "        diagonal_collisions += counter / (n-abs(i-n+1))\n",
    "    \n",
    "    return int(maxFitness - (horizontal_collisions + diagonal_collisions)) #28-(2+3)=23"
   ]
  },
  {
   "cell_type": "code",
   "execution_count": null,
   "metadata": {},
   "outputs": [],
   "source": [
    "# Step 3 : Finding the genetic queen\n",
    "# Note: mutation probability can be varied\n",
    "\n",
    "def genetic_queen(population, fitness):\n",
    "    mutation_probability = 0.03\n",
    "    new_population = []\n",
    "    probabilities = [probability(n, fitness) for n in population]\n",
    "    for i in range(len(population)):\n",
    "        x = random_pick(population, probabilities) #best chromosome 1\n",
    "        y = random_pick(population, probabilities) #best chromosome 2\n",
    "        child = reproduce(x, y) #creating two new chromosomes from the best 2 chromosomes\n",
    "        if random.random() < mutation_probability:\n",
    "            child = mutate(child)\n",
    "        print_chromosome(child)\n",
    "        new_population.append(child)\n",
    "        if fitness(child) == maxFitness: break\n",
    "    return new_population"
   ]
  },
  {
   "cell_type": "code",
   "execution_count": null,
   "metadata": {},
   "outputs": [],
   "source": [
    "# Step 3a : Define your probability\n",
    "def probability(chromosome, fitness):\n",
    "    return fitness(chromosome) / maxFitness"
   ]
  },
  {
   "cell_type": "code",
   "execution_count": null,
   "metadata": {},
   "outputs": [],
   "source": [
    "# Step 3b : Randomly pick from the population\n",
    "def random_pick(population, probabilities):\n",
    "    populationWithProbabilty = zip(population, probabilities)\n",
    "    total = sum(w for c, w in populationWithProbabilty)\n",
    "    r = random.uniform(0, total)\n",
    "    upto = 0\n",
    "    for c, w in zip(population, probabilities):\n",
    "        if upto + w >= r:\n",
    "            return c\n",
    "        upto += w\n",
    "    assert False, \"Shouldn't get here\""
   ]
  },
  {
   "cell_type": "code",
   "execution_count": null,
   "metadata": {},
   "outputs": [],
   "source": [
    "# Step 3c : Doing cross_over between two chromosomes\n",
    "def reproduce(x, y):\n",
    "    n = len(x)\n",
    "    c = random.randint(0, n - 1)\n",
    "    return x[0:c] + y[c:n]"
   ]
  },
  {
   "cell_type": "code",
   "execution_count": null,
   "metadata": {},
   "outputs": [],
   "source": [
    "# Step 3d : Randomly changing the value of a random index of a chromosome\n",
    "def mutate(x):  \n",
    "    n = len(x)\n",
    "    c = random.randint(0, n - 1)\n",
    "    m = random.randint(1, n)\n",
    "    x[c] = m\n",
    "    return x"
   ]
  },
  {
   "cell_type": "code",
   "execution_count": null,
   "metadata": {},
   "outputs": [],
   "source": [
    "# Final step : Print the chromosome\n",
    "def print_chromosome(chrom):\n",
    "    print(\"Chromosome = {},  Fitness = {}\"\n",
    "        .format(str(chrom), fitness(chrom)))"
   ]
  },
  {
   "cell_type": "code",
   "execution_count": null,
   "metadata": {},
   "outputs": [],
   "source": [
    "# Main function\n",
    "if __name__ == \"__main__\":\n",
    "    nq = int(input(\"Enter Number of Queens: \")) # say N = 8\n",
    "    maxFitness = (nq*(nq-1))/2  # 8*7/2 = 28\n",
    "    population = [random_chromosome(nq) for i in range(100)]\n",
    "    \n",
    "    generation = 1\n",
    "\n",
    "    while not maxFitness in [fitness(chrom) for chrom in population]:\n",
    "        print(\"=== Generation {} ===\".format(generation))\n",
    "        population = genetic_queen(population, fitness)\n",
    "        print(\"\")\n",
    "        print(\"Maximum Fitness = {}\".format(max([fitness(n) for n in population])))\n",
    "        generation += 1\n",
    "    chrom_out = []\n",
    "    print(\"Solved in Generation {}!\".format(generation-1))\n",
    "    for chrom in population:\n",
    "        if fitness(chrom) == maxFitness:\n",
    "            print(\"\");\n",
    "            print(\"One of the solutions: \")\n",
    "            chrom_out = chrom\n",
    "            print_chromosome(chrom)\n",
    "            \n",
    "    board = []\n",
    "\n",
    "    for x in range(nq):\n",
    "        board.append([\"x\"] * nq)\n",
    "        \n",
    "    for i in range(nq):\n",
    "        board[nq-chrom_out[i]][i]=\"Q\"\n",
    "            \n",
    "\n",
    "    def print_board(board):\n",
    "        for row in board:\n",
    "            print (\" \".join(row))\n",
    "            \n",
    "    print()\n",
    "    print_board(board)"
   ]
  },
  {
   "cell_type": "code",
   "execution_count": null,
   "metadata": {},
   "outputs": [],
   "source": [
    "# Since the output generated is huge, I have cleared it and below is the final sample output:\n",
    "\n",
    "\"\"\"\n",
    "Maximum Fitness = 28\n",
    "Solved in Generation 12435!\n",
    "\n",
    "One of the solutions: \n",
    "Chromosome = [8, 2, 4, 1, 7, 5, 3, 6],  Fitness = 28\n",
    "\n",
    "Q x x x x x x x\n",
    "x x x x Q x x x\n",
    "x x x x x x x Q\n",
    "x x x x x Q x x\n",
    "x x Q x x x x x\n",
    "x x x x x x Q x\n",
    "x Q x x x x x x\n",
    "x x x Q x x x x\n",
    "\n",
    "\"\"\""
   ]
  },
  {
   "cell_type": "code",
   "execution_count": null,
   "metadata": {},
   "outputs": [],
   "source": []
  }
 ],
 "metadata": {
  "kernelspec": {
   "display_name": "Python 3",
   "language": "python",
   "name": "python3"
  },
  "language_info": {
   "codemirror_mode": {
    "name": "ipython",
    "version": 3
   },
   "file_extension": ".py",
   "mimetype": "text/x-python",
   "name": "python",
   "nbconvert_exporter": "python",
   "pygments_lexer": "ipython3",
   "version": "3.7.6"
  }
 },
 "nbformat": 4,
 "nbformat_minor": 4
}
